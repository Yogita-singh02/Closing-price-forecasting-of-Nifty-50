{
 "cells": [
  {
   "cell_type": "code",
   "execution_count": 1,
   "id": "7af848d7",
   "metadata": {},
   "outputs": [],
   "source": [
    "import numpy as np\n",
    "import pandas as pd\n",
    "import os\n",
    "from statsmodels.tsa.statespace.sarimax import SARIMAX\n",
    "from statsmodels.graphics.tsaplots import plot_acf,plot_pacf \n",
    "from statsmodels.tsa.seasonal import seasonal_decompose \n",
    "#from pmdarima import auto_arima                        \n",
    "from sklearn.metrics import mean_squared_error\n",
    "from statsmodels.tools.eval_measures import rmse\n",
    "import warnings\n",
    "warnings.filterwarnings(\"ignore\")\n",
    "import matplotlib.pyplot as plt\n",
    "%matplotlib inline"
   ]
  },
  {
   "cell_type": "code",
   "execution_count": 2,
   "id": "228b06c1",
   "metadata": {},
   "outputs": [],
   "source": [
    "df = pd.read_excel(\"Nifty 50.xlsx\")"
   ]
  },
  {
   "cell_type": "code",
   "execution_count": 3,
   "id": "9643e3fd",
   "metadata": {},
   "outputs": [
    {
     "data": {
      "text/html": [
       "<div>\n",
       "<style scoped>\n",
       "    .dataframe tbody tr th:only-of-type {\n",
       "        vertical-align: middle;\n",
       "    }\n",
       "\n",
       "    .dataframe tbody tr th {\n",
       "        vertical-align: top;\n",
       "    }\n",
       "\n",
       "    .dataframe thead th {\n",
       "        text-align: right;\n",
       "    }\n",
       "</style>\n",
       "<table border=\"1\" class=\"dataframe\">\n",
       "  <thead>\n",
       "    <tr style=\"text-align: right;\">\n",
       "      <th></th>\n",
       "      <th>Date</th>\n",
       "      <th>Open</th>\n",
       "      <th>High</th>\n",
       "      <th>Low</th>\n",
       "      <th>Close</th>\n",
       "      <th>Volume</th>\n",
       "      <th>Turnover</th>\n",
       "      <th>P/E</th>\n",
       "      <th>P/B</th>\n",
       "      <th>Div Yield</th>\n",
       "    </tr>\n",
       "  </thead>\n",
       "  <tbody>\n",
       "    <tr>\n",
       "      <th>0</th>\n",
       "      <td>2000-01-03</td>\n",
       "      <td>1482.15</td>\n",
       "      <td>1592.90</td>\n",
       "      <td>1482.15</td>\n",
       "      <td>1592.2</td>\n",
       "      <td>25358322.0</td>\n",
       "      <td>8.841500e+09</td>\n",
       "      <td>25.91</td>\n",
       "      <td>4.63</td>\n",
       "      <td>0.95</td>\n",
       "    </tr>\n",
       "    <tr>\n",
       "      <th>1</th>\n",
       "      <td>2000-01-04</td>\n",
       "      <td>1594.40</td>\n",
       "      <td>1641.95</td>\n",
       "      <td>1594.40</td>\n",
       "      <td>1638.7</td>\n",
       "      <td>38787872.0</td>\n",
       "      <td>1.973690e+10</td>\n",
       "      <td>26.67</td>\n",
       "      <td>4.76</td>\n",
       "      <td>0.92</td>\n",
       "    </tr>\n",
       "    <tr>\n",
       "      <th>2</th>\n",
       "      <td>2000-01-05</td>\n",
       "      <td>1634.55</td>\n",
       "      <td>1635.50</td>\n",
       "      <td>1555.05</td>\n",
       "      <td>1595.8</td>\n",
       "      <td>62153431.0</td>\n",
       "      <td>3.084790e+10</td>\n",
       "      <td>25.97</td>\n",
       "      <td>4.64</td>\n",
       "      <td>0.95</td>\n",
       "    </tr>\n",
       "    <tr>\n",
       "      <th>3</th>\n",
       "      <td>2000-01-06</td>\n",
       "      <td>1595.80</td>\n",
       "      <td>1639.00</td>\n",
       "      <td>1595.80</td>\n",
       "      <td>1617.6</td>\n",
       "      <td>51272875.0</td>\n",
       "      <td>2.531180e+10</td>\n",
       "      <td>26.32</td>\n",
       "      <td>4.70</td>\n",
       "      <td>0.94</td>\n",
       "    </tr>\n",
       "    <tr>\n",
       "      <th>4</th>\n",
       "      <td>2000-01-07</td>\n",
       "      <td>1616.60</td>\n",
       "      <td>1628.25</td>\n",
       "      <td>1597.20</td>\n",
       "      <td>1613.3</td>\n",
       "      <td>54315945.0</td>\n",
       "      <td>1.914630e+10</td>\n",
       "      <td>26.25</td>\n",
       "      <td>4.69</td>\n",
       "      <td>0.94</td>\n",
       "    </tr>\n",
       "  </tbody>\n",
       "</table>\n",
       "</div>"
      ],
      "text/plain": [
       "        Date     Open     High      Low   Close      Volume      Turnover  \\\n",
       "0 2000-01-03  1482.15  1592.90  1482.15  1592.2  25358322.0  8.841500e+09   \n",
       "1 2000-01-04  1594.40  1641.95  1594.40  1638.7  38787872.0  1.973690e+10   \n",
       "2 2000-01-05  1634.55  1635.50  1555.05  1595.8  62153431.0  3.084790e+10   \n",
       "3 2000-01-06  1595.80  1639.00  1595.80  1617.6  51272875.0  2.531180e+10   \n",
       "4 2000-01-07  1616.60  1628.25  1597.20  1613.3  54315945.0  1.914630e+10   \n",
       "\n",
       "     P/E   P/B  Div Yield  \n",
       "0  25.91  4.63       0.95  \n",
       "1  26.67  4.76       0.92  \n",
       "2  25.97  4.64       0.95  \n",
       "3  26.32  4.70       0.94  \n",
       "4  26.25  4.69       0.94  "
      ]
     },
     "execution_count": 3,
     "metadata": {},
     "output_type": "execute_result"
    }
   ],
   "source": [
    "df.head()"
   ]
  },
  {
   "cell_type": "code",
   "execution_count": 4,
   "id": "7875b248",
   "metadata": {},
   "outputs": [
    {
     "data": {
      "text/html": [
       "<div>\n",
       "<style scoped>\n",
       "    .dataframe tbody tr th:only-of-type {\n",
       "        vertical-align: middle;\n",
       "    }\n",
       "\n",
       "    .dataframe tbody tr th {\n",
       "        vertical-align: top;\n",
       "    }\n",
       "\n",
       "    .dataframe thead th {\n",
       "        text-align: right;\n",
       "    }\n",
       "</style>\n",
       "<table border=\"1\" class=\"dataframe\">\n",
       "  <thead>\n",
       "    <tr style=\"text-align: right;\">\n",
       "      <th></th>\n",
       "      <th>Date</th>\n",
       "      <th>Open</th>\n",
       "      <th>High</th>\n",
       "      <th>Low</th>\n",
       "      <th>Close</th>\n",
       "      <th>Volume</th>\n",
       "      <th>Turnover</th>\n",
       "      <th>P/E</th>\n",
       "      <th>P/B</th>\n",
       "      <th>Div Yield</th>\n",
       "    </tr>\n",
       "  </thead>\n",
       "  <tbody>\n",
       "    <tr>\n",
       "      <th>5056</th>\n",
       "      <td>2020-05-04</td>\n",
       "      <td>9533.50</td>\n",
       "      <td>9533.50</td>\n",
       "      <td>9266.95</td>\n",
       "      <td>9293.50</td>\n",
       "      <td>NaN</td>\n",
       "      <td>NaN</td>\n",
       "      <td>21.39</td>\n",
       "      <td>2.65</td>\n",
       "      <td>1.64</td>\n",
       "    </tr>\n",
       "    <tr>\n",
       "      <th>5057</th>\n",
       "      <td>2020-05-05</td>\n",
       "      <td>9429.40</td>\n",
       "      <td>9450.90</td>\n",
       "      <td>9190.75</td>\n",
       "      <td>9205.60</td>\n",
       "      <td>725196178.0</td>\n",
       "      <td>2.970020e+11</td>\n",
       "      <td>21.19</td>\n",
       "      <td>2.62</td>\n",
       "      <td>1.65</td>\n",
       "    </tr>\n",
       "    <tr>\n",
       "      <th>5058</th>\n",
       "      <td>2020-05-06</td>\n",
       "      <td>9226.80</td>\n",
       "      <td>9346.90</td>\n",
       "      <td>9116.50</td>\n",
       "      <td>9270.90</td>\n",
       "      <td>722185448.0</td>\n",
       "      <td>3.079810e+11</td>\n",
       "      <td>21.34</td>\n",
       "      <td>2.64</td>\n",
       "      <td>1.64</td>\n",
       "    </tr>\n",
       "    <tr>\n",
       "      <th>5059</th>\n",
       "      <td>2020-05-07</td>\n",
       "      <td>9234.05</td>\n",
       "      <td>9277.85</td>\n",
       "      <td>9175.90</td>\n",
       "      <td>9199.05</td>\n",
       "      <td>708740416.0</td>\n",
       "      <td>5.970553e+11</td>\n",
       "      <td>21.18</td>\n",
       "      <td>2.62</td>\n",
       "      <td>1.65</td>\n",
       "    </tr>\n",
       "    <tr>\n",
       "      <th>5060</th>\n",
       "      <td>2020-05-08</td>\n",
       "      <td>9376.95</td>\n",
       "      <td>9382.65</td>\n",
       "      <td>9238.20</td>\n",
       "      <td>9251.50</td>\n",
       "      <td>609053504.0</td>\n",
       "      <td>3.074345e+11</td>\n",
       "      <td>21.28</td>\n",
       "      <td>2.64</td>\n",
       "      <td>1.64</td>\n",
       "    </tr>\n",
       "  </tbody>\n",
       "</table>\n",
       "</div>"
      ],
      "text/plain": [
       "           Date     Open     High      Low    Close       Volume  \\\n",
       "5056 2020-05-04  9533.50  9533.50  9266.95  9293.50          NaN   \n",
       "5057 2020-05-05  9429.40  9450.90  9190.75  9205.60  725196178.0   \n",
       "5058 2020-05-06  9226.80  9346.90  9116.50  9270.90  722185448.0   \n",
       "5059 2020-05-07  9234.05  9277.85  9175.90  9199.05  708740416.0   \n",
       "5060 2020-05-08  9376.95  9382.65  9238.20  9251.50  609053504.0   \n",
       "\n",
       "          Turnover    P/E   P/B  Div Yield  \n",
       "5056           NaN  21.39  2.65       1.64  \n",
       "5057  2.970020e+11  21.19  2.62       1.65  \n",
       "5058  3.079810e+11  21.34  2.64       1.64  \n",
       "5059  5.970553e+11  21.18  2.62       1.65  \n",
       "5060  3.074345e+11  21.28  2.64       1.64  "
      ]
     },
     "execution_count": 4,
     "metadata": {},
     "output_type": "execute_result"
    }
   ],
   "source": [
    "df.tail()"
   ]
  },
  {
   "cell_type": "code",
   "execution_count": 5,
   "id": "2dd63973",
   "metadata": {},
   "outputs": [
    {
     "name": "stdout",
     "output_type": "stream",
     "text": [
      "<class 'pandas.core.frame.DataFrame'>\n",
      "RangeIndex: 5061 entries, 0 to 5060\n",
      "Data columns (total 10 columns):\n",
      " #   Column     Non-Null Count  Dtype         \n",
      "---  ------     --------------  -----         \n",
      " 0   Date       5061 non-null   datetime64[ns]\n",
      " 1   Open       5061 non-null   float64       \n",
      " 2   High       5061 non-null   float64       \n",
      " 3   Low        5061 non-null   float64       \n",
      " 4   Close      5061 non-null   float64       \n",
      " 5   Volume     5060 non-null   float64       \n",
      " 6   Turnover   5060 non-null   float64       \n",
      " 7   P/E        5061 non-null   float64       \n",
      " 8   P/B        5061 non-null   float64       \n",
      " 9   Div Yield  5061 non-null   float64       \n",
      "dtypes: datetime64[ns](1), float64(9)\n",
      "memory usage: 395.5 KB\n"
     ]
    }
   ],
   "source": [
    "df.info()"
   ]
  },
  {
   "cell_type": "code",
   "execution_count": 6,
   "id": "4fc81b48",
   "metadata": {},
   "outputs": [],
   "source": [
    "df.Date=pd.to_datetime(df['Date'])"
   ]
  },
  {
   "cell_type": "code",
   "execution_count": 7,
   "id": "26fadfd7",
   "metadata": {},
   "outputs": [
    {
     "data": {
      "text/plain": [
       "(Timestamp('2000-01-03 00:00:00'), Timestamp('2020-05-08 00:00:00'))"
      ]
     },
     "execution_count": 7,
     "metadata": {},
     "output_type": "execute_result"
    }
   ],
   "source": [
    "df.Date.min(),df.Date.max()"
   ]
  },
  {
   "cell_type": "code",
   "execution_count": 8,
   "id": "888a11b1",
   "metadata": {},
   "outputs": [],
   "source": [
    "df.set_index('Date',inplace=True)"
   ]
  },
  {
   "cell_type": "code",
   "execution_count": 9,
   "id": "b2028d11",
   "metadata": {},
   "outputs": [],
   "source": [
    "df[\"Volume\"].fillna( method ='ffill', inplace = True)\n",
    "df[\"Turnover\"].fillna( method ='ffill', inplace = True)"
   ]
  },
  {
   "cell_type": "code",
   "execution_count": 10,
   "id": "5c5d06fb",
   "metadata": {},
   "outputs": [
    {
     "data": {
      "text/html": [
       "<div>\n",
       "<style scoped>\n",
       "    .dataframe tbody tr th:only-of-type {\n",
       "        vertical-align: middle;\n",
       "    }\n",
       "\n",
       "    .dataframe tbody tr th {\n",
       "        vertical-align: top;\n",
       "    }\n",
       "\n",
       "    .dataframe thead th {\n",
       "        text-align: right;\n",
       "    }\n",
       "</style>\n",
       "<table border=\"1\" class=\"dataframe\">\n",
       "  <thead>\n",
       "    <tr style=\"text-align: right;\">\n",
       "      <th></th>\n",
       "      <th>Open</th>\n",
       "      <th>High</th>\n",
       "      <th>Low</th>\n",
       "      <th>Close</th>\n",
       "      <th>Volume</th>\n",
       "      <th>Turnover</th>\n",
       "      <th>P/E</th>\n",
       "      <th>P/B</th>\n",
       "      <th>Div Yield</th>\n",
       "    </tr>\n",
       "    <tr>\n",
       "      <th>Date</th>\n",
       "      <th></th>\n",
       "      <th></th>\n",
       "      <th></th>\n",
       "      <th></th>\n",
       "      <th></th>\n",
       "      <th></th>\n",
       "      <th></th>\n",
       "      <th></th>\n",
       "      <th></th>\n",
       "    </tr>\n",
       "  </thead>\n",
       "  <tbody>\n",
       "    <tr>\n",
       "      <th>2000-01-03</th>\n",
       "      <td>1482.15</td>\n",
       "      <td>1592.90</td>\n",
       "      <td>1482.15</td>\n",
       "      <td>1592.2</td>\n",
       "      <td>25358322.0</td>\n",
       "      <td>8.841500e+09</td>\n",
       "      <td>25.91</td>\n",
       "      <td>4.63</td>\n",
       "      <td>0.95</td>\n",
       "    </tr>\n",
       "    <tr>\n",
       "      <th>2000-01-04</th>\n",
       "      <td>1594.40</td>\n",
       "      <td>1641.95</td>\n",
       "      <td>1594.40</td>\n",
       "      <td>1638.7</td>\n",
       "      <td>38787872.0</td>\n",
       "      <td>1.973690e+10</td>\n",
       "      <td>26.67</td>\n",
       "      <td>4.76</td>\n",
       "      <td>0.92</td>\n",
       "    </tr>\n",
       "    <tr>\n",
       "      <th>2000-01-05</th>\n",
       "      <td>1634.55</td>\n",
       "      <td>1635.50</td>\n",
       "      <td>1555.05</td>\n",
       "      <td>1595.8</td>\n",
       "      <td>62153431.0</td>\n",
       "      <td>3.084790e+10</td>\n",
       "      <td>25.97</td>\n",
       "      <td>4.64</td>\n",
       "      <td>0.95</td>\n",
       "    </tr>\n",
       "    <tr>\n",
       "      <th>2000-01-06</th>\n",
       "      <td>1595.80</td>\n",
       "      <td>1639.00</td>\n",
       "      <td>1595.80</td>\n",
       "      <td>1617.6</td>\n",
       "      <td>51272875.0</td>\n",
       "      <td>2.531180e+10</td>\n",
       "      <td>26.32</td>\n",
       "      <td>4.70</td>\n",
       "      <td>0.94</td>\n",
       "    </tr>\n",
       "    <tr>\n",
       "      <th>2000-01-07</th>\n",
       "      <td>1616.60</td>\n",
       "      <td>1628.25</td>\n",
       "      <td>1597.20</td>\n",
       "      <td>1613.3</td>\n",
       "      <td>54315945.0</td>\n",
       "      <td>1.914630e+10</td>\n",
       "      <td>26.25</td>\n",
       "      <td>4.69</td>\n",
       "      <td>0.94</td>\n",
       "    </tr>\n",
       "  </tbody>\n",
       "</table>\n",
       "</div>"
      ],
      "text/plain": [
       "               Open     High      Low   Close      Volume      Turnover  \\\n",
       "Date                                                                      \n",
       "2000-01-03  1482.15  1592.90  1482.15  1592.2  25358322.0  8.841500e+09   \n",
       "2000-01-04  1594.40  1641.95  1594.40  1638.7  38787872.0  1.973690e+10   \n",
       "2000-01-05  1634.55  1635.50  1555.05  1595.8  62153431.0  3.084790e+10   \n",
       "2000-01-06  1595.80  1639.00  1595.80  1617.6  51272875.0  2.531180e+10   \n",
       "2000-01-07  1616.60  1628.25  1597.20  1613.3  54315945.0  1.914630e+10   \n",
       "\n",
       "              P/E   P/B  Div Yield  \n",
       "Date                                \n",
       "2000-01-03  25.91  4.63       0.95  \n",
       "2000-01-04  26.67  4.76       0.92  \n",
       "2000-01-05  25.97  4.64       0.95  \n",
       "2000-01-06  26.32  4.70       0.94  \n",
       "2000-01-07  26.25  4.69       0.94  "
      ]
     },
     "execution_count": 10,
     "metadata": {},
     "output_type": "execute_result"
    }
   ],
   "source": [
    "df.head()"
   ]
  },
  {
   "cell_type": "code",
   "execution_count": 11,
   "id": "9f1de96d",
   "metadata": {},
   "outputs": [
    {
     "data": {
      "text/plain": [
       "<AxesSubplot:xlabel='Date'>"
      ]
     },
     "execution_count": 11,
     "metadata": {},
     "output_type": "execute_result"
    },
    {
     "data": {
      "image/png": "[encoded data removed]",
      "text/plain": [
       "<Figure size 1080x360 with 1 Axes>"
      ]
     },
     "metadata": {
      "needs_background": "light"
     },
     "output_type": "display_data"
    }
   ],
   "source": [
    "df[['High','Low','Open','Close']].plot(figsize = (15, 5), alpha = 0.5)"
   ]
  },
  {
   "cell_type": "code",
   "execution_count": 12,
   "id": "437d602a",
   "metadata": {},
   "outputs": [
    {
     "data": {
      "text/plain": [
       "506.0"
      ]
     },
     "execution_count": 12,
     "metadata": {},
     "output_type": "execute_result"
    }
   ],
   "source": [
    "np.round(df.shape[0]/10,0)"
   ]
  },
  {
   "cell_type": "code",
   "execution_count": 13,
   "id": "b393f521",
   "metadata": {},
   "outputs": [],
   "source": [
    "from statistics import stdev\n",
    "mean=[]\n",
    "std=[]\n",
    "    \n",
    "for i in range(0,10):\n",
    "    mean.append(df['High'].iloc[(i*182):(i*182)+182].mean())\n",
    "    std.append(stdev(df['High'].iloc[(i*182):(i*182)+182]))"
   ]
  },
  {
   "cell_type": "code",
   "execution_count": 14,
   "id": "2f98fa6b",
   "metadata": {},
   "outputs": [
    {
     "data": {
      "text/html": [
       "<div>\n",
       "<style scoped>\n",
       "    .dataframe tbody tr th:only-of-type {\n",
       "        vertical-align: middle;\n",
       "    }\n",
       "\n",
       "    .dataframe tbody tr th {\n",
       "        vertical-align: top;\n",
       "    }\n",
       "\n",
       "    .dataframe thead th {\n",
       "        text-align: right;\n",
       "    }\n",
       "</style>\n",
       "<table border=\"1\" class=\"dataframe\">\n",
       "  <thead>\n",
       "    <tr style=\"text-align: right;\">\n",
       "      <th></th>\n",
       "      <th>mean</th>\n",
       "      <th>std</th>\n",
       "    </tr>\n",
       "  </thead>\n",
       "  <tbody>\n",
       "    <tr>\n",
       "      <th>0</th>\n",
       "      <td>1507.479670</td>\n",
       "      <td>139.512089</td>\n",
       "    </tr>\n",
       "    <tr>\n",
       "      <th>1</th>\n",
       "      <td>1249.571703</td>\n",
       "      <td>87.718373</td>\n",
       "    </tr>\n",
       "    <tr>\n",
       "      <th>2</th>\n",
       "      <td>1064.992308</td>\n",
       "      <td>70.713528</td>\n",
       "    </tr>\n",
       "    <tr>\n",
       "      <th>3</th>\n",
       "      <td>1045.887088</td>\n",
       "      <td>68.475483</td>\n",
       "    </tr>\n",
       "    <tr>\n",
       "      <th>4</th>\n",
       "      <td>1070.341758</td>\n",
       "      <td>80.294699</td>\n",
       "    </tr>\n",
       "    <tr>\n",
       "      <th>5</th>\n",
       "      <td>1702.301099</td>\n",
       "      <td>196.242878</td>\n",
       "    </tr>\n",
       "    <tr>\n",
       "      <th>6</th>\n",
       "      <td>1750.696429</td>\n",
       "      <td>181.353253</td>\n",
       "    </tr>\n",
       "    <tr>\n",
       "      <th>7</th>\n",
       "      <td>2211.126648</td>\n",
       "      <td>197.277807</td>\n",
       "    </tr>\n",
       "    <tr>\n",
       "      <th>8</th>\n",
       "      <td>3040.116484</td>\n",
       "      <td>344.502436</td>\n",
       "    </tr>\n",
       "    <tr>\n",
       "      <th>9</th>\n",
       "      <td>3726.811264</td>\n",
       "      <td>317.878207</td>\n",
       "    </tr>\n",
       "  </tbody>\n",
       "</table>\n",
       "</div>"
      ],
      "text/plain": [
       "          mean         std\n",
       "0  1507.479670  139.512089\n",
       "1  1249.571703   87.718373\n",
       "2  1064.992308   70.713528\n",
       "3  1045.887088   68.475483\n",
       "4  1070.341758   80.294699\n",
       "5  1702.301099  196.242878\n",
       "6  1750.696429  181.353253\n",
       "7  2211.126648  197.277807\n",
       "8  3040.116484  344.502436\n",
       "9  3726.811264  317.878207"
      ]
     },
     "execution_count": 14,
     "metadata": {},
     "output_type": "execute_result"
    }
   ],
   "source": [
    "pd.concat([pd.DataFrame(mean,columns=['mean']),pd.DataFrame(std,columns=['std'])], axis=1)"
   ]
  },
  {
   "cell_type": "code",
   "execution_count": 15,
   "id": "4b23da59",
   "metadata": {},
   "outputs": [],
   "source": [
    "from statsmodels.tsa.seasonal import seasonal_decompose"
   ]
  },
  {
   "cell_type": "code",
   "execution_count": 16,
   "id": "3b4878f0",
   "metadata": {},
   "outputs": [
    {
     "data": {
      "text/plain": [
       "<matplotlib.legend.Legend at 0x1b59cc12c70>"
      ]
     },
     "execution_count": 16,
     "metadata": {},
     "output_type": "execute_result"
    },
    {
     "data": {
      "image/png": "[encoded data removed]",
      "text/plain": [
       "<Figure size 1080x1080 with 4 Axes>"
      ]
     },
     "metadata": {
      "needs_background": "light"
     },
     "output_type": "display_data"
    }
   ],
   "source": [
    "decompose_add=seasonal_decompose(df['High'], model='additive', period=12)\n",
    "plt.figure(figsize=(15,15))\n",
    "plt.subplot(411)\n",
    "plt.plot(df['High'], label='Original TS')\n",
    "plt.legend(loc='best')\n",
    "plt.subplot(412)\n",
    "plt.plot(decompose_add.trend, label='Trend')\n",
    "plt.legend(loc='best')\n",
    "plt.subplot(413)\n",
    "plt.plot(decompose_add.seasonal,label='Seasonality')\n",
    "plt.legend(loc='best')\n",
    "plt.subplot(414)\n",
    "plt.plot(decompose_add.resid, label='Residual')\n",
    "plt.legend(loc='best')"
   ]
  },
  {
   "cell_type": "code",
   "execution_count": 17,
   "id": "6c0012f0",
   "metadata": {},
   "outputs": [
    {
     "name": "stdout",
     "output_type": "stream",
     "text": [
      "ADF Statistic: -0.765568\n",
      "p-value: 0.829028\n",
      "Critical Values:\n",
      "\t1%: -3.432\n",
      "\t5%: -2.862\n",
      "\t10%: -2.567\n"
     ]
    }
   ],
   "source": [
    "from statsmodels.tsa.stattools import adfuller\n",
    "result = adfuller(df['Close'])\n",
    "print('ADF Statistic: %f' % result[0])\n",
    "print('p-value: %f' % result[1])\n",
    "print('Critical Values:')\n",
    "for key, value in result[4].items():\n",
    "    print('\\t%s: %.3f' % (key, value))"
   ]
  },
  {
   "cell_type": "code",
   "execution_count": null,
   "id": "0c357176",
   "metadata": {},
   "outputs": [],
   "source": []
  },
  {
   "cell_type": "code",
   "execution_count": null,
   "id": "46b9b131",
   "metadata": {},
   "outputs": [],
   "source": []
  },
  {
   "cell_type": "markdown",
   "id": "85f840ba",
   "metadata": {},
   "source": [
    "# MODELING"
   ]
  },
  {
   "cell_type": "code",
   "execution_count": 18,
   "id": "4ce705d7",
   "metadata": {},
   "outputs": [],
   "source": [
    "import math\n",
    "new_df=df['High'].iloc[:-4]"
   ]
  },
  {
   "cell_type": "code",
   "execution_count": 19,
   "id": "b897f1c9",
   "metadata": {},
   "outputs": [
    {
     "data": {
      "text/plain": [
       "4046"
      ]
     },
     "execution_count": 19,
     "metadata": {},
     "output_type": "execute_result"
    }
   ],
   "source": [
    "train_len = math.ceil(len(new_df)*0.8)\n",
    "train_len"
   ]
  },
  {
   "cell_type": "code",
   "execution_count": 20,
   "id": "70575ea9",
   "metadata": {},
   "outputs": [],
   "source": [
    "window=10"
   ]
  },
  {
   "cell_type": "code",
   "execution_count": 21,
   "id": "fc80b2fe",
   "metadata": {},
   "outputs": [],
   "source": [
    "train_data = new_df[0:train_len]\n",
    "\n",
    "X_train=[]\n",
    "Y_train=[]\n",
    "\n",
    "for i in range(window, len(train_data)):\n",
    "    X_train.append(train_data[i-window:i])\n",
    "    Y_train.append(train_data[i])"
   ]
  },
  {
   "cell_type": "code",
   "execution_count": 22,
   "id": "40c8f8a8",
   "metadata": {},
   "outputs": [],
   "source": [
    "X_train, Y_train= np.array(X_train), np.array(Y_train)"
   ]
  },
  {
   "cell_type": "code",
   "execution_count": 23,
   "id": "4d563270",
   "metadata": {},
   "outputs": [
    {
     "data": {
      "text/plain": [
       "(4036, 10, 1)"
      ]
     },
     "execution_count": 23,
     "metadata": {},
     "output_type": "execute_result"
    }
   ],
   "source": [
    "X_train = np.reshape(X_train, (X_train.shape[0], X_train.shape[1], 1))\n",
    "X_train.shape"
   ]
  },
  {
   "cell_type": "code",
   "execution_count": 24,
   "id": "71325f58",
   "metadata": {},
   "outputs": [],
   "source": [
    "from keras.models import Sequential\n",
    "from keras.layers import Dense, LSTM, Dropout"
   ]
  },
  {
   "cell_type": "code",
   "execution_count": 25,
   "id": "038274ed",
   "metadata": {},
   "outputs": [
    {
     "name": "stdout",
     "output_type": "stream",
     "text": [
      "Model: \"sequential\"\n",
      "_________________________________________________________________\n",
      " Layer (type)                Output Shape              Param #   \n",
      "=================================================================\n",
      " lstm (LSTM)                 (None, 50)                10400     \n",
      "                                                                 \n",
      " dense (Dense)               (None, 25)                1275      \n",
      "                                                                 \n",
      " dense_1 (Dense)             (None, 1)                 26        \n",
      "                                                                 \n",
      "=================================================================\n",
      "Total params: 11,701\n",
      "Trainable params: 11,701\n",
      "Non-trainable params: 0\n",
      "_________________________________________________________________\n"
     ]
    },
    {
     "data": {
      "text/plain": [
       "<keras.callbacks.History at 0x1b5a73aad30>"
      ]
     },
     "execution_count": 25,
     "metadata": {},
     "output_type": "execute_result"
    }
   ],
   "source": [
    "model=Sequential()\n",
    "model.add(LSTM(50, activation='relu', input_shape=(X_train.shape[1],1)))\n",
    "model.add(Dense(25))\n",
    "model.add(Dense(1))\n",
    "model.compile(loss='mean_squared_error', optimizer='adam')\n",
    "model.summary()\n",
    "model.fit(X_train, Y_train, epochs=10, batch_size=10, verbose=0)"
   ]
  },
  {
   "cell_type": "code",
   "execution_count": 26,
   "id": "409845d2",
   "metadata": {},
   "outputs": [],
   "source": [
    "test_data = new_df[train_len-window:]\n",
    "\n",
    "X_val=[]\n",
    "Y_val=[] \n",
    "\n",
    "for i in range(window, len(test_data)):\n",
    "    X_val.append(test_data[i-window:i])\n",
    "    Y_val.append(test_data[i])"
   ]
  },
  {
   "cell_type": "code",
   "execution_count": 27,
   "id": "1708ea19",
   "metadata": {},
   "outputs": [],
   "source": [
    "X_val, Y_val = np.array(X_val), np.array(Y_val)\n",
    "X_val = np.reshape(X_val, (X_val.shape[0], X_val.shape[1],1))"
   ]
  },
  {
   "cell_type": "code",
   "execution_count": 28,
   "id": "dfedfde3",
   "metadata": {},
   "outputs": [
    {
     "data": {
      "text/plain": [
       "((1011, 10, 1), (1011,))"
      ]
     },
     "execution_count": 28,
     "metadata": {},
     "output_type": "execute_result"
    }
   ],
   "source": [
    "X_val.shape, Y_val.shape"
   ]
  },
  {
   "cell_type": "code",
   "execution_count": 29,
   "id": "5925c080",
   "metadata": {},
   "outputs": [
    {
     "name": "stdout",
     "output_type": "stream",
     "text": [
      "32/32 [==============================] - 1s 6ms/step\n"
     ]
    }
   ],
   "source": [
    "prediction = model.predict(X_val)"
   ]
  },
  {
   "cell_type": "code",
   "execution_count": 30,
   "id": "616f58d9",
   "metadata": {},
   "outputs": [
    {
     "name": "stdout",
     "output_type": "stream",
     "text": [
      "127/127 [==============================] - 1s 5ms/step\n",
      "32/32 [==============================] - 0s 6ms/step\n",
      "Train rmse: 108.04902127769888\n",
      "Validation rmse: 201.02754157856774\n"
     ]
    }
   ],
   "source": [
    "from sklearn.metrics import mean_squared_error\n",
    "\n",
    "lstm_train_pred = model.predict(X_train)\n",
    "lstm_valid_pred = model.predict(X_val)\n",
    "print('Train rmse:', np.sqrt(mean_squared_error(Y_train, lstm_train_pred)))\n",
    "print('Validation rmse:', np.sqrt(mean_squared_error(Y_val, lstm_valid_pred)))"
   ]
  },
  {
   "cell_type": "code",
   "execution_count": 31,
   "id": "84559ee2",
   "metadata": {},
   "outputs": [
    {
     "data": {
      "text/html": [
       "<div>\n",
       "<style scoped>\n",
       "    .dataframe tbody tr th:only-of-type {\n",
       "        vertical-align: middle;\n",
       "    }\n",
       "\n",
       "    .dataframe tbody tr th {\n",
       "        vertical-align: top;\n",
       "    }\n",
       "\n",
       "    .dataframe thead th {\n",
       "        text-align: right;\n",
       "    }\n",
       "</style>\n",
       "<table border=\"1\" class=\"dataframe\">\n",
       "  <thead>\n",
       "    <tr style=\"text-align: right;\">\n",
       "      <th></th>\n",
       "      <th>High</th>\n",
       "      <th>Predictions</th>\n",
       "    </tr>\n",
       "    <tr>\n",
       "      <th>Date</th>\n",
       "      <th></th>\n",
       "      <th></th>\n",
       "    </tr>\n",
       "  </thead>\n",
       "  <tbody>\n",
       "    <tr>\n",
       "      <th>2016-03-29</th>\n",
       "      <td>7652.90</td>\n",
       "      <td>7640.860840</td>\n",
       "    </tr>\n",
       "    <tr>\n",
       "      <th>2016-03-30</th>\n",
       "      <td>7741.95</td>\n",
       "      <td>7623.406250</td>\n",
       "    </tr>\n",
       "    <tr>\n",
       "      <th>2016-03-31</th>\n",
       "      <td>7777.60</td>\n",
       "      <td>7645.959473</td>\n",
       "    </tr>\n",
       "    <tr>\n",
       "      <th>2016-04-01</th>\n",
       "      <td>7740.15</td>\n",
       "      <td>7675.413086</td>\n",
       "    </tr>\n",
       "    <tr>\n",
       "      <th>2016-04-04</th>\n",
       "      <td>7764.45</td>\n",
       "      <td>7698.288086</td>\n",
       "    </tr>\n",
       "    <tr>\n",
       "      <th>...</th>\n",
       "      <td>...</td>\n",
       "      <td>...</td>\n",
       "    </tr>\n",
       "    <tr>\n",
       "      <th>2020-04-27</th>\n",
       "      <td>9377.10</td>\n",
       "      <td>9226.942383</td>\n",
       "    </tr>\n",
       "    <tr>\n",
       "      <th>2020-04-28</th>\n",
       "      <td>9404.40</td>\n",
       "      <td>9250.855469</td>\n",
       "    </tr>\n",
       "    <tr>\n",
       "      <th>2020-04-29</th>\n",
       "      <td>9599.85</td>\n",
       "      <td>9284.301758</td>\n",
       "    </tr>\n",
       "    <tr>\n",
       "      <th>2020-04-30</th>\n",
       "      <td>9889.05</td>\n",
       "      <td>9359.940430</td>\n",
       "    </tr>\n",
       "    <tr>\n",
       "      <th>2020-05-04</th>\n",
       "      <td>9533.50</td>\n",
       "      <td>9466.422852</td>\n",
       "    </tr>\n",
       "  </tbody>\n",
       "</table>\n",
       "<p>1011 rows × 2 columns</p>\n",
       "</div>"
      ],
      "text/plain": [
       "               High  Predictions\n",
       "Date                            \n",
       "2016-03-29  7652.90  7640.860840\n",
       "2016-03-30  7741.95  7623.406250\n",
       "2016-03-31  7777.60  7645.959473\n",
       "2016-04-01  7740.15  7675.413086\n",
       "2016-04-04  7764.45  7698.288086\n",
       "...             ...          ...\n",
       "2020-04-27  9377.10  9226.942383\n",
       "2020-04-28  9404.40  9250.855469\n",
       "2020-04-29  9599.85  9284.301758\n",
       "2020-04-30  9889.05  9359.940430\n",
       "2020-05-04  9533.50  9466.422852\n",
       "\n",
       "[1011 rows x 2 columns]"
      ]
     },
     "execution_count": 31,
     "metadata": {},
     "output_type": "execute_result"
    }
   ],
   "source": [
    "valid = pd.DataFrame(new_df[train_len:])\n",
    "valid['Predictions']=lstm_valid_pred\n",
    "valid"
   ]
  },
  {
   "cell_type": "code",
   "execution_count": 32,
   "id": "2bbae010",
   "metadata": {},
   "outputs": [
    {
     "data": {
      "text/html": [
       "<div>\n",
       "<style scoped>\n",
       "    .dataframe tbody tr th:only-of-type {\n",
       "        vertical-align: middle;\n",
       "    }\n",
       "\n",
       "    .dataframe tbody tr th {\n",
       "        vertical-align: top;\n",
       "    }\n",
       "\n",
       "    .dataframe thead th {\n",
       "        text-align: right;\n",
       "    }\n",
       "</style>\n",
       "<table border=\"1\" class=\"dataframe\">\n",
       "  <thead>\n",
       "    <tr style=\"text-align: right;\">\n",
       "      <th></th>\n",
       "      <th>High</th>\n",
       "      <th>Predictions</th>\n",
       "    </tr>\n",
       "    <tr>\n",
       "      <th>Date</th>\n",
       "      <th></th>\n",
       "      <th></th>\n",
       "    </tr>\n",
       "  </thead>\n",
       "  <tbody>\n",
       "    <tr>\n",
       "      <th>2020-04-27</th>\n",
       "      <td>9377.10</td>\n",
       "      <td>9226.942383</td>\n",
       "    </tr>\n",
       "    <tr>\n",
       "      <th>2020-04-28</th>\n",
       "      <td>9404.40</td>\n",
       "      <td>9250.855469</td>\n",
       "    </tr>\n",
       "    <tr>\n",
       "      <th>2020-04-29</th>\n",
       "      <td>9599.85</td>\n",
       "      <td>9284.301758</td>\n",
       "    </tr>\n",
       "    <tr>\n",
       "      <th>2020-04-30</th>\n",
       "      <td>9889.05</td>\n",
       "      <td>9359.940430</td>\n",
       "    </tr>\n",
       "    <tr>\n",
       "      <th>2020-05-04</th>\n",
       "      <td>9533.50</td>\n",
       "      <td>9466.422852</td>\n",
       "    </tr>\n",
       "  </tbody>\n",
       "</table>\n",
       "</div>"
      ],
      "text/plain": [
       "               High  Predictions\n",
       "Date                            \n",
       "2020-04-27  9377.10  9226.942383\n",
       "2020-04-28  9404.40  9250.855469\n",
       "2020-04-29  9599.85  9284.301758\n",
       "2020-04-30  9889.05  9359.940430\n",
       "2020-05-04  9533.50  9466.422852"
      ]
     },
     "execution_count": 32,
     "metadata": {},
     "output_type": "execute_result"
    }
   ],
   "source": [
    "valid.tail()"
   ]
  },
  {
   "cell_type": "code",
   "execution_count": 67,
   "id": "ff5daafd",
   "metadata": {},
   "outputs": [
    {
     "name": "stdout",
     "output_type": "stream",
     "text": [
      "1/1 [==============================] - 0s 48ms/step\n",
      "[[9638.612]]\n"
     ]
    }
   ],
   "source": [
    "last_12_days=new_df[-12:].values\n",
    "X_test=[]\n",
    "X_test.append(last_12_days)\n",
    "X_test=np.array(X_test)\n",
    "X_test=np.reshape(X_test,(X_test.shape[0],X_test.shape[1],1))\n",
    "pred_price=model.predict(X_test)\n",
    "print(pred_price)"
   ]
  },
  {
   "cell_type": "code",
   "execution_count": 72,
   "id": "657bcc24",
   "metadata": {},
   "outputs": [
    {
     "data": {
      "text/plain": [
       "array([[9638.612]], dtype=float32)"
      ]
     },
     "execution_count": 72,
     "metadata": {},
     "output_type": "execute_result"
    }
   ],
   "source": [
    "pred_price"
   ]
  },
  {
   "cell_type": "code",
   "execution_count": 36,
   "id": "25f55455",
   "metadata": {},
   "outputs": [
    {
     "name": "stdout",
     "output_type": "stream",
     "text": [
      "127/127 [==============================] - 1s 5ms/step\n",
      "32/32 [==============================] - 0s 6ms/step\n",
      "127/127 [==============================] - 1s 5ms/step\n",
      "32/32 [==============================] - 0s 6ms/step\n",
      "127/127 [==============================] - 1s 5ms/step\n",
      "32/32 [==============================] - 0s 6ms/step\n",
      "127/127 [==============================] - 1s 5ms/step\n",
      "32/32 [==============================] - 0s 6ms/step\n",
      "127/127 [==============================] - 1s 5ms/step\n",
      "32/32 [==============================] - 0s 6ms/step\n",
      "127/127 [==============================] - 1s 5ms/step\n",
      "32/32 [==============================] - 0s 5ms/step\n",
      "127/127 [==============================] - 1s 7ms/step\n",
      "32/32 [==============================] - 0s 9ms/step\n"
     ]
    }
   ],
   "source": [
    "# train_error=[]\n",
    "# val_error=[]\n",
    "\n",
    "# window_number=[5,8,10,15,20,30,40]\n",
    "# for i in window_number:\n",
    "#     #_____________________________________________________________________\n",
    "#     train_data = new_df[0:train_len]\n",
    "\n",
    "#     X_train=[]\n",
    "#     Y_train=[]\n",
    "\n",
    "#     for i in range(window, len(train_data)):\n",
    "#         X_train.append(train_data[i-window:i])\n",
    "#         Y_train.append(train_data[i])\n",
    "\n",
    "#     X_train, Y_train= np.array(X_train), np.array(Y_train)\n",
    "#     X_train = np.reshape(X_train, (X_train.shape[0], X_train.shape[1], 1))\n",
    "#     #______________________________________________________________________\n",
    "#     test_data = new_df[train_len-window:]\n",
    "\n",
    "#     X_val=[]\n",
    "#     Y_val=[] \n",
    "\n",
    "#     for i in range(window, len(test_data)):\n",
    "#         X_val.append(test_data[i-window:i])\n",
    "#         Y_val.append(test_data[i])\n",
    "\n",
    "#     X_val, Y_val = np.array(X_val), np.array(Y_val)\n",
    "#     X_val = np.reshape(X_val, (X_val.shape[0], X_val.shape[1],1))\n",
    "#     #______________________________________________________________________\n",
    "#     model=Sequential()\n",
    "#     model.add(LSTM(50, activation='relu', input_shape=(X_train.shape[1],1)))\n",
    "#     model.add(Dense(25))\n",
    "#     model.add(Dense(1))\n",
    "#     model.compile(loss='mean_squared_error', optimizer='adam')\n",
    "#     model.fit(X_train, Y_train, epochs=10, batch_size=10, verbose=0)\n",
    "#     #______________________________________________________________________\n",
    "#     lstm_train_pred = model.predict(X_train)\n",
    "#     lstm_valid_pred = model.predict(X_val)\n",
    "#     train_error.append(np.sqrt(mean_squared_error(Y_train, lstm_train_pred)))\n",
    "#     val_error.append(np.sqrt(mean_squared_error(Y_val, lstm_valid_pred)))"
   ]
  },
  {
   "cell_type": "code",
   "execution_count": 37,
   "id": "9f8f5c15",
   "metadata": {},
   "outputs": [
    {
     "data": {
      "text/html": [
       "<div>\n",
       "<style scoped>\n",
       "    .dataframe tbody tr th:only-of-type {\n",
       "        vertical-align: middle;\n",
       "    }\n",
       "\n",
       "    .dataframe tbody tr th {\n",
       "        vertical-align: top;\n",
       "    }\n",
       "\n",
       "    .dataframe thead th {\n",
       "        text-align: right;\n",
       "    }\n",
       "</style>\n",
       "<table border=\"1\" class=\"dataframe\">\n",
       "  <thead>\n",
       "    <tr style=\"text-align: right;\">\n",
       "      <th></th>\n",
       "      <th>train_error</th>\n",
       "      <th>val_error</th>\n",
       "    </tr>\n",
       "    <tr>\n",
       "      <th>window</th>\n",
       "      <th></th>\n",
       "      <th></th>\n",
       "    </tr>\n",
       "  </thead>\n",
       "  <tbody>\n",
       "    <tr>\n",
       "      <th>5</th>\n",
       "      <td>115.455191</td>\n",
       "      <td>213.068192</td>\n",
       "    </tr>\n",
       "    <tr>\n",
       "      <th>8</th>\n",
       "      <td>134.195380</td>\n",
       "      <td>286.076512</td>\n",
       "    </tr>\n",
       "    <tr>\n",
       "      <th>10</th>\n",
       "      <td>99.718703</td>\n",
       "      <td>185.936231</td>\n",
       "    </tr>\n",
       "    <tr>\n",
       "      <th>15</th>\n",
       "      <td>84.039123</td>\n",
       "      <td>156.624842</td>\n",
       "    </tr>\n",
       "    <tr>\n",
       "      <th>20</th>\n",
       "      <td>78.731152</td>\n",
       "      <td>139.003953</td>\n",
       "    </tr>\n",
       "    <tr>\n",
       "      <th>30</th>\n",
       "      <td>90.657208</td>\n",
       "      <td>170.381948</td>\n",
       "    </tr>\n",
       "    <tr>\n",
       "      <th>40</th>\n",
       "      <td>90.804369</td>\n",
       "      <td>167.808530</td>\n",
       "    </tr>\n",
       "  </tbody>\n",
       "</table>\n",
       "</div>"
      ],
      "text/plain": [
       "        train_error   val_error\n",
       "window                         \n",
       "5        115.455191  213.068192\n",
       "8        134.195380  286.076512\n",
       "10        99.718703  185.936231\n",
       "15        84.039123  156.624842\n",
       "20        78.731152  139.003953\n",
       "30        90.657208  170.381948\n",
       "40        90.804369  167.808530"
      ]
     },
     "execution_count": 37,
     "metadata": {},
     "output_type": "execute_result"
    }
   ],
   "source": [
    "# pd.concat([pd.DataFrame(train_error,columns=['train_error']),\n",
    "#            pd.DataFrame(val_error,columns=['val_error']),\n",
    "#            pd.DataFrame([5,8,10,15,20,30,40],columns=['window'])], axis=1).set_index('window')"
   ]
  },
  {
   "cell_type": "code",
   "execution_count": 39,
   "id": "f667f420",
   "metadata": {},
   "outputs": [],
   "source": [
    "window=10\n",
    "\n",
    "train_data = new_df[0:train_len]\n",
    "X_train=[]\n",
    "Y_train=[]\n",
    "for i in range(window, len(train_data)):\n",
    "    X_train.append(train_data[i-window:i])\n",
    "    Y_train.append(train_data[i])\n",
    "\n",
    "X_train, Y_train= np.array(X_train), np.array(Y_train)\n",
    "X_train = np.reshape(X_train, (X_train.shape[0], X_train.shape[1], 1))\n",
    "#____________________________________________________________________\n",
    "test_data = new_df[train_len-window:]\n",
    "X_val=[]\n",
    "Y_val=[] \n",
    "for i in range(window, len(test_data)):\n",
    "    X_val.append(test_data[i-window:i])\n",
    "    Y_val.append(test_data[i])\n",
    "    \n",
    "X_val, Y_val = np.array(X_val), np.array(Y_val)\n",
    "X_val = np.reshape(X_val, (X_val.shape[0], X_val.shape[1],1))"
   ]
  },
  {
   "cell_type": "code",
   "execution_count": null,
   "id": "fc6a8dd4",
   "metadata": {},
   "outputs": [],
   "source": []
  },
  {
   "cell_type": "code",
   "execution_count": 40,
   "id": "cc80f0e5",
   "metadata": {},
   "outputs": [
    {
     "name": "stdout",
     "output_type": "stream",
     "text": [
      "Model: \"sequential_8\"\n",
      "_________________________________________________________________\n",
      " Layer (type)                Output Shape              Param #   \n",
      "=================================================================\n",
      " lstm_8 (LSTM)               (None, 10, 50)            10400     \n",
      "                                                                 \n",
      " lstm_9 (LSTM)               (None, 50)                20200     \n",
      "                                                                 \n",
      " dense_16 (Dense)            (None, 100)               5100      \n",
      "                                                                 \n",
      " dense_17 (Dense)            (None, 25)                2525      \n",
      "                                                                 \n",
      " dense_18 (Dense)            (None, 1)                 26        \n",
      "                                                                 \n",
      "=================================================================\n",
      "Total params: 38,251\n",
      "Trainable params: 38,251\n",
      "Non-trainable params: 0\n",
      "_________________________________________________________________\n"
     ]
    },
    {
     "data": {
      "text/plain": [
       "<keras.callbacks.History at 0x1b5ab82d220>"
      ]
     },
     "execution_count": 40,
     "metadata": {},
     "output_type": "execute_result"
    }
   ],
   "source": [
    "from keras.optimizers import Adam\n",
    "import statistics\n",
    "model=Sequential()\n",
    "model.add(LSTM(50,return_sequences=True, activation='relu', input_shape=(X_train.shape[1],1)))\n",
    "model.add(LSTM(50,return_sequences=False,activation='relu'))\n",
    "model.add(Dense(100))\n",
    "model.add(Dense(25))\n",
    "model.add(Dense(1))\n",
    "opt1=Adam(learning_rate=0.001,beta_1=0.9,beta_2=0.999)\n",
    "model.compile(loss='mean_squared_error', optimizer=opt1)\n",
    "model.summary()\n",
    "model.fit(X_train, Y_train, epochs=100, batch_size=10, verbose=0)"
   ]
  },
  {
   "cell_type": "code",
   "execution_count": 41,
   "id": "c8d9b9b0",
   "metadata": {},
   "outputs": [
    {
     "name": "stdout",
     "output_type": "stream",
     "text": [
      "127/127 [==============================] - 2s 8ms/step\n",
      "32/32 [==============================] - 0s 8ms/step\n",
      "Train rmse: 74.51312229122497\n",
      "Validation rmse: 148.04430394789154\n"
     ]
    }
   ],
   "source": [
    "lstm_train_pred = model.predict(X_train)\n",
    "lstm_valid_pred = model.predict(X_val)\n",
    "print('Train rmse:', np.sqrt(mean_squared_error(Y_train, lstm_train_pred)))\n",
    "print('Validation rmse:', np.sqrt(mean_squared_error(Y_val, lstm_valid_pred)))"
   ]
  },
  {
   "cell_type": "code",
   "execution_count": 65,
   "id": "70bde7e8",
   "metadata": {},
   "outputs": [],
   "source": [
    "valid = pd.DataFrame(new_df[train_len:])\n",
    "valid['Predictions']=lstm_valid_pred"
   ]
  },
  {
   "cell_type": "code",
   "execution_count": 78,
   "id": "a2019933",
   "metadata": {},
   "outputs": [
    {
     "name": "stdout",
     "output_type": "stream",
     "text": [
      "1/1 [==============================] - 0s 56ms/step\n",
      "[[9638.612]]\n"
     ]
    }
   ],
   "source": [
    "last_12_days=new_df[-12:].values\n",
    "X_test=[]\n",
    "X_test.append(last_12_days)\n",
    "X_test=np.array(X_test)\n",
    "X_test=np.reshape(X_test,(X_test.shape[0],X_test.shape[1],1))\n",
    "pred_price=model.predict(X_test)\n",
    "print(pred_price)"
   ]
  },
  {
   "cell_type": "code",
   "execution_count": 83,
   "id": "44a63d60",
   "metadata": {},
   "outputs": [
    {
     "ename": "NameError",
     "evalue": "name 'pred_price2' is not defined",
     "output_type": "error",
     "traceback": [
      "\u001b[1;31m---------------------------------------------------------------------------\u001b[0m",
      "\u001b[1;31mNameError\u001b[0m                                 Traceback (most recent call last)",
      "Input \u001b[1;32mIn [83]\u001b[0m, in \u001b[0;36m<cell line: 2>\u001b[1;34m()\u001b[0m\n\u001b[0;32m      1\u001b[0m actual_prices\u001b[38;5;241m=\u001b[39mnp\u001b[38;5;241m.\u001b[39marray([df\u001b[38;5;241m.\u001b[39mHigh\u001b[38;5;241m.\u001b[39miloc[\u001b[38;5;241m-\u001b[39m\u001b[38;5;241m3\u001b[39m], df\u001b[38;5;241m.\u001b[39mHigh\u001b[38;5;241m.\u001b[39miloc[\u001b[38;5;241m-\u001b[39m\u001b[38;5;241m2\u001b[39m], df\u001b[38;5;241m.\u001b[39mHigh\u001b[38;5;241m.\u001b[39miloc[\u001b[38;5;241m-\u001b[39m\u001b[38;5;241m1\u001b[39m]])\n\u001b[1;32m----> 2\u001b[0m pred_prices\u001b[38;5;241m=\u001b[39mnp\u001b[38;5;241m.\u001b[39marray([\u001b[38;5;28mfloat\u001b[39m(pred_price),\u001b[38;5;28mfloat\u001b[39m(\u001b[43mpred_price2\u001b[49m),\u001b[38;5;28mfloat\u001b[39m(pred_price3)])\n\u001b[0;32m      3\u001b[0m actual_prices, pred_prices\n\u001b[0;32m      5\u001b[0m data\u001b[38;5;241m=\u001b[39m{\u001b[38;5;124m'\u001b[39m\u001b[38;5;124mActual values\u001b[39m\u001b[38;5;124m'\u001b[39m:[df\u001b[38;5;241m.\u001b[39mHigh\u001b[38;5;241m.\u001b[39miloc[\u001b[38;5;241m-\u001b[39m\u001b[38;5;241m3\u001b[39m],df\u001b[38;5;241m.\u001b[39mHigh\u001b[38;5;241m.\u001b[39miloc[\u001b[38;5;241m-\u001b[39m\u001b[38;5;241m2\u001b[39m],df\u001b[38;5;241m.\u001b[39mHigh\u001b[38;5;241m.\u001b[39miloc[\u001b[38;5;241m-\u001b[39m\u001b[38;5;241m1\u001b[39m]],\n\u001b[0;32m      6\u001b[0m       \u001b[38;5;124m'\u001b[39m\u001b[38;5;124mPredicted values\u001b[39m\u001b[38;5;124m'\u001b[39m:[\u001b[38;5;28mfloat\u001b[39m(pred_price),\u001b[38;5;28mfloat\u001b[39m(pred_price2),\u001b[38;5;28mfloat\u001b[39m(pred_price3)]}\n",
      "\u001b[1;31mNameError\u001b[0m: name 'pred_price2' is not defined"
     ]
    }
   ],
   "source": [
    "actual_prices=np.array([df.High.iloc[-3], df.High.iloc[-2], df.High.iloc[-1]])\n",
    "pred_prices=np.array([float(pred_price),float(pred_price2),float(pred_price3)])\n",
    "actual_prices, pred_prices\n",
    "\n",
    "data={'Actual values':[df.High.iloc[-3],df.High.iloc[-2],df.High.iloc[-1]],\n",
    "      'Predicted values':[float(pred_price),float(pred_price2),float(pred_price3)]}\n"
   ]
  },
  {
   "cell_type": "code",
   "execution_count": 76,
   "id": "7a98c96a",
   "metadata": {},
   "outputs": [
    {
     "data": {
      "text/html": [
       "<div>\n",
       "<style scoped>\n",
       "    .dataframe tbody tr th:only-of-type {\n",
       "        vertical-align: middle;\n",
       "    }\n",
       "\n",
       "    .dataframe tbody tr th {\n",
       "        vertical-align: top;\n",
       "    }\n",
       "\n",
       "    .dataframe thead th {\n",
       "        text-align: right;\n",
       "    }\n",
       "</style>\n",
       "<table border=\"1\" class=\"dataframe\">\n",
       "  <thead>\n",
       "    <tr style=\"text-align: right;\">\n",
       "      <th></th>\n",
       "      <th>Actual values</th>\n",
       "      <th>Predicted values</th>\n",
       "    </tr>\n",
       "  </thead>\n",
       "  <tbody>\n",
       "    <tr>\n",
       "      <th>2020-05-09</th>\n",
       "      <td>9450.90</td>\n",
       "      <td>9638.612305</td>\n",
       "    </tr>\n",
       "    <tr>\n",
       "      <th>2020-05-10</th>\n",
       "      <td>9346.90</td>\n",
       "      <td>9638.612305</td>\n",
       "    </tr>\n",
       "    <tr>\n",
       "      <th>2020-05-11</th>\n",
       "      <td>9277.85</td>\n",
       "      <td>9638.612305</td>\n",
       "    </tr>\n",
       "  </tbody>\n",
       "</table>\n",
       "</div>"
      ],
      "text/plain": [
       "            Actual values  Predicted values\n",
       "2020-05-09        9450.90       9638.612305\n",
       "2020-05-10        9346.90       9638.612305\n",
       "2020-05-11        9277.85       9638.612305"
      ]
     },
     "execution_count": 76,
     "metadata": {},
     "output_type": "execute_result"
    }
   ],
   "source": [
    "pd.DataFrame(data, index=['2020-05-09','2020-05-10','2020-05-11'])"
   ]
  },
  {
   "cell_type": "code",
   "execution_count": 61,
   "id": "c7dffdfa",
   "metadata": {},
   "outputs": [
    {
     "ename": "NameError",
     "evalue": "name 'pred_price2' is not defined",
     "output_type": "error",
     "traceback": [
      "\u001b[1;31m---------------------------------------------------------------------------\u001b[0m",
      "\u001b[1;31mNameError\u001b[0m                                 Traceback (most recent call last)",
      "Input \u001b[1;32mIn [61]\u001b[0m, in \u001b[0;36m<cell line: 5>\u001b[1;34m()\u001b[0m\n\u001b[0;32m      1\u001b[0m actual_prices\u001b[38;5;241m=\u001b[39mnp\u001b[38;5;241m.\u001b[39marray([df\u001b[38;5;241m.\u001b[39mHigh\u001b[38;5;241m.\u001b[39miloc[\u001b[38;5;241m-\u001b[39m\u001b[38;5;241m12\u001b[39m],df\u001b[38;5;241m.\u001b[39mHigh\u001b[38;5;241m.\u001b[39miloc[\u001b[38;5;241m-\u001b[39m\u001b[38;5;241m11\u001b[39m],df\u001b[38;5;241m.\u001b[39mHigh\u001b[38;5;241m.\u001b[39miloc[\u001b[38;5;241m-\u001b[39m\u001b[38;5;241m10\u001b[39m],df\u001b[38;5;241m.\u001b[39mHigh\u001b[38;5;241m.\u001b[39miloc[\u001b[38;5;241m-\u001b[39m\u001b[38;5;241m9\u001b[39m],\n\u001b[0;32m      2\u001b[0m                         df\u001b[38;5;241m.\u001b[39mHigh\u001b[38;5;241m.\u001b[39miloc[\u001b[38;5;241m-\u001b[39m\u001b[38;5;241m8\u001b[39m],df\u001b[38;5;241m.\u001b[39mHigh\u001b[38;5;241m.\u001b[39miloc[\u001b[38;5;241m-\u001b[39m\u001b[38;5;241m7\u001b[39m],\n\u001b[0;32m      3\u001b[0m                         df\u001b[38;5;241m.\u001b[39mHigh\u001b[38;5;241m.\u001b[39miloc[\u001b[38;5;241m-\u001b[39m\u001b[38;5;241m6\u001b[39m],df\u001b[38;5;241m.\u001b[39mHigh\u001b[38;5;241m.\u001b[39miloc[\u001b[38;5;241m-\u001b[39m\u001b[38;5;241m5\u001b[39m],df\u001b[38;5;241m.\u001b[39mHigh\u001b[38;5;241m.\u001b[39miloc[\u001b[38;5;241m-\u001b[39m\u001b[38;5;241m4\u001b[39m], df\u001b[38;5;241m.\u001b[39mHigh\u001b[38;5;241m.\u001b[39miloc[\u001b[38;5;241m-\u001b[39m\u001b[38;5;241m3\u001b[39m], \n\u001b[0;32m      4\u001b[0m                         df\u001b[38;5;241m.\u001b[39mHigh\u001b[38;5;241m.\u001b[39miloc[\u001b[38;5;241m-\u001b[39m\u001b[38;5;241m2\u001b[39m], df\u001b[38;5;241m.\u001b[39mHigh\u001b[38;5;241m.\u001b[39miloc[\u001b[38;5;241m-\u001b[39m\u001b[38;5;241m1\u001b[39m]])\n\u001b[1;32m----> 5\u001b[0m pred_prices\u001b[38;5;241m=\u001b[39mnp\u001b[38;5;241m.\u001b[39marray([\u001b[38;5;28mfloat\u001b[39m(pred_price),\u001b[38;5;28mfloat\u001b[39m(\u001b[43mpred_price2\u001b[49m),\u001b[38;5;28mfloat\u001b[39m(pred_price3),\n\u001b[0;32m      6\u001b[0m                       \u001b[38;5;28mfloat\u001b[39m(pred_price4),\u001b[38;5;28mfloat\u001b[39m(pred_price5),\u001b[38;5;28mfloat\u001b[39m(pred_price6),\n\u001b[0;32m      7\u001b[0m                       \u001b[38;5;28mfloat\u001b[39m(pred_price7),\u001b[38;5;28mfloat\u001b[39m(pred_price8),\u001b[38;5;28mfloat\u001b[39m(pred_price9),\n\u001b[0;32m      8\u001b[0m                       \u001b[38;5;28mfloat\u001b[39m(pred_price10),\u001b[38;5;28mfloat\u001b[39m(pred_price11),\u001b[38;5;28mfloat\u001b[39m(pred_price12)])\n",
      "\u001b[1;31mNameError\u001b[0m: name 'pred_price2' is not defined"
     ]
    }
   ],
   "source": [
    "actual_prices=np.array([df.High.iloc[-12],df.High.iloc[-11],df.High.iloc[-10],df.High.iloc[-9],\n",
    "                        df.High.iloc[-8],df.High.iloc[-7],\n",
    "                        df.High.iloc[-6],df.High.iloc[-5],df.High.iloc[-4], df.High.iloc[-3], \n",
    "                        df.High.iloc[-2], df.High.iloc[-1]])\n",
    "pred_prices=np.array([float(pred_price),float(pred_price2),float(pred_price3),\n",
    "                      float(pred_price4),float(pred_price5),float(pred_price6),\n",
    "                      float(pred_price7),float(pred_price8),float(pred_price9),\n",
    "                      float(pred_price10),float(pred_price11),float(pred_price12)])"
   ]
  },
  {
   "cell_type": "code",
   "execution_count": 56,
   "id": "b166f40f",
   "metadata": {},
   "outputs": [
    {
     "ename": "NameError",
     "evalue": "name 'pred_prices' is not defined",
     "output_type": "error",
     "traceback": [
      "\u001b[1;31m---------------------------------------------------------------------------\u001b[0m",
      "\u001b[1;31mNameError\u001b[0m                                 Traceback (most recent call last)",
      "Input \u001b[1;32mIn [56]\u001b[0m, in \u001b[0;36m<cell line: 1>\u001b[1;34m()\u001b[0m\n\u001b[1;32m----> 1\u001b[0m actual_prices, \u001b[43mpred_prices\u001b[49m\n",
      "\u001b[1;31mNameError\u001b[0m: name 'pred_prices' is not defined"
     ]
    }
   ],
   "source": [
    "actual_prices, pred_prices"
   ]
  },
  {
   "cell_type": "code",
   "execution_count": null,
   "id": "78bd5e78",
   "metadata": {},
   "outputs": [],
   "source": [
    "data={'Actual values':[df.High.iloc[-12],df.High.iloc[-11],df.High.iloc[-10],df.High.iloc[-9],df.High.iloc[-8],df.High.iloc[-7],df.High.iloc[-6],df.High.iloc[-5],df.High.iloc[-4],df.High.iloc[-3],df.High.iloc[-2]],\n",
    "      'Predicted values':[float(pred_price),float(pred_price2),float(pred_price3),float(pred_price4),float(pred_price5),float(pred_price6),float(pred_price7),float(pred_price8),float(pred_price9),float(pred_price10),float(pred_price11),float(pred_price12)]}\n",
    "\n",
    "pd.DataFrame(data, index=['2020-05-09','2020-05-10','2020-05-11','2020-05-12','2020-05-13','2020-05-14','2020-05-15','2020-05-16','2020-05-17','2020-05-18','2020-05-19','2020-05-20'])"
   ]
  },
  {
   "cell_type": "code",
   "execution_count": null,
   "id": "4a8a1d5b",
   "metadata": {},
   "outputs": [],
   "source": []
  },
  {
   "cell_type": "code",
   "execution_count": null,
   "id": "8d140852",
   "metadata": {},
   "outputs": [],
   "source": []
  }
 ],
 "metadata": {
  "kernelspec": {
   "display_name": "Python 3 (ipykernel)",
   "language": "python",
   "name": "python3"
  },
  "language_info": {
   "codemirror_mode": {
    "name": "ipython",
    "version": 3
   },
   "file_extension": ".py",
   "mimetype": "text/x-python",
   "name": "python",
   "nbconvert_exporter": "python",
   "pygments_lexer": "ipython3",
   "version": "3.9.10"
  }
 },
 "nbformat": 4,
 "nbformat_minor": 5
}
